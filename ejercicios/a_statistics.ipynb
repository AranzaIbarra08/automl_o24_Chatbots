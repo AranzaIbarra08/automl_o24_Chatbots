{
 "cells": [
  {
   "cell_type": "markdown",
   "id": "911686c4",
   "metadata": {},
   "source": [
    "# Guía de Preguntas para Crash Course de Estadística\n",
    "Este cuaderno está diseñado para ayudarte a reflexionar sobre los videos de Crash Course en Estadística. Contesta las preguntas antes y después de ver cada video para mejorar tu comprensión."
   ]
  },
  {
   "cell_type": "markdown",
   "id": "02b9ea60",
   "metadata": {},
   "source": [
    "## Medidas de Tendencia Central (Media, Mediana y Moda)"
   ]
  },
  {
   "cell_type": "markdown",
   "id": "815b5d71",
   "metadata": {},
   "source": [
    "### Preguntas Iniciales"
   ]
  },
  {
   "cell_type": "code",
   "execution_count": null,
   "id": "b803e9f1",
   "metadata": {},
   "outputs": [],
   "source": [
    "# ¿Cuáles son las diferentes formas de resumir un conjunto de datos?\n"
   ]
  },
  {
   "cell_type": "code",
   "execution_count": null,
   "id": "9c4e11f2",
   "metadata": {},
   "outputs": [],
   "source": [
    "# ¿Cómo crees que se diferencian la media, la mediana y la moda entre sí?\n"
   ]
  },
  {
   "cell_type": "code",
   "execution_count": null,
   "id": "5bdedcb6",
   "metadata": {},
   "outputs": [],
   "source": [
    "# ¿Puedes pensar en situaciones en las que la media no sea la mejor medida de tendencia central?\n"
   ]
  },
  {
   "cell_type": "markdown",
   "id": "c7a328e7",
   "metadata": {},
   "source": [
    "### Video\n",
    "<iframe width=\"560\" height=\"315\" src=\"https://www.youtube.com/embed/kn83BA7cRNM\" frameborder=\"0\" allow=\"accelerometer; autoplay; clipboard-write; encrypted-media; gyroscope; picture-in-picture\" allowfullscreen></iframe>\n"
   ]
  },
  {
   "cell_type": "markdown",
   "id": "395afc24",
   "metadata": {},
   "source": [
    "### Preguntas Finales"
   ]
  },
  {
   "cell_type": "code",
   "execution_count": null,
   "id": "3a630bed",
   "metadata": {},
   "outputs": [],
   "source": [
    "# Define media, mediana y moda. Proporciona un ejemplo de cuándo es más apropiada cada medida.\n"
   ]
  },
  {
   "cell_type": "code",
   "execution_count": null,
   "id": "46b97afe",
   "metadata": {},
   "outputs": [],
   "source": [
    "# ¿Por qué la mediana podría ser una mejor medida de tendencia central que la media en una distribución asimétrica?\n"
   ]
  },
  {
   "cell_type": "code",
   "execution_count": null,
   "id": "baff03c4",
   "metadata": {},
   "outputs": [],
   "source": [
    "# ¿Cómo afecta la presencia de valores atípicos (outliers) a la media, la mediana y la moda?\n"
   ]
  },
  {
   "cell_type": "markdown",
   "id": "fc967072",
   "metadata": {},
   "source": [
    "## Medidas de Dispersión (Rango, Varianza y Desviación Estándar)"
   ]
  },
  {
   "cell_type": "markdown",
   "id": "99dd1d7c",
   "metadata": {},
   "source": [
    "### Preguntas Iniciales"
   ]
  },
  {
   "cell_type": "code",
   "execution_count": null,
   "id": "41d989a0",
   "metadata": {},
   "outputs": [],
   "source": [
    "# ¿A qué crees que se refiere la 'dispersión' en un conjunto de datos?\n"
   ]
  },
  {
   "cell_type": "code",
   "execution_count": null,
   "id": "412d1805",
   "metadata": {},
   "outputs": [],
   "source": [
    "# ¿Cómo podría la dispersión de los datos afectar las conclusiones que extraemos de ellos?\n"
   ]
  },
  {
   "cell_type": "code",
   "execution_count": null,
   "id": "a2c2d6e2",
   "metadata": {},
   "outputs": [],
   "source": [
    "# ¿Cuáles son algunas medidas potenciales para describir cuán dispersos están los datos?\n"
   ]
  },
  {
   "cell_type": "markdown",
   "id": "92ec46f4",
   "metadata": {},
   "source": [
    "### Video\n",
    "<iframe width=\"560\" height=\"315\" src=\"https://www.youtube.com/embed/R4yfNi_8Kqw\" frameborder=\"0\" allow=\"accelerometer; autoplay; clipboard-write; encrypted-media; gyroscope; picture-in-picture\" allowfullscreen></iframe>\n"
   ]
  },
  {
   "cell_type": "markdown",
   "id": "dee15816",
   "metadata": {},
   "source": [
    "### Preguntas Finales"
   ]
  },
  {
   "cell_type": "code",
   "execution_count": null,
   "id": "b9fc541b",
   "metadata": {},
   "outputs": [],
   "source": [
    "# Explica los conceptos de rango, varianza y desviación estándar. ¿Cómo se calculan?\n"
   ]
  },
  {
   "cell_type": "code",
   "execution_count": null,
   "id": "8a50acf8",
   "metadata": {},
   "outputs": [],
   "source": [
    "# ¿Por qué es la desviación estándar una medida de dispersión más útil que el rango?\n"
   ]
  },
  {
   "cell_type": "code",
   "execution_count": null,
   "id": "51d12060",
   "metadata": {},
   "outputs": [],
   "source": [
    "# ¿Cómo pueden dos conjuntos de datos diferentes tener la misma media pero diferentes niveles de dispersión?\n"
   ]
  },
  {
   "cell_type": "markdown",
   "id": "0661d9fa",
   "metadata": {},
   "source": [
    "## Visualización de Datos Parte 1 (Los Gráficos Son Como la Pasta)"
   ]
  },
  {
   "cell_type": "markdown",
   "id": "40772553",
   "metadata": {},
   "source": [
    "### Preguntas Iniciales"
   ]
  },
  {
   "cell_type": "code",
   "execution_count": null,
   "id": "5984cdad",
   "metadata": {},
   "outputs": [],
   "source": [
    "# ¿Cuáles son algunos tipos comunes de gráficos utilizados para visualizar datos?\n"
   ]
  },
  {
   "cell_type": "code",
   "execution_count": null,
   "id": "a3985f86",
   "metadata": {},
   "outputs": [],
   "source": [
    "# ¿Cómo decides qué tipo de gráfico usar para un conjunto de datos específico?\n"
   ]
  },
  {
   "cell_type": "code",
   "execution_count": null,
   "id": "a7839274",
   "metadata": {},
   "outputs": [],
   "source": [
    "# ¿Qué hace que un gráfico sea bueno o malo?\n"
   ]
  },
  {
   "cell_type": "markdown",
   "id": "4120bec5",
   "metadata": {},
   "source": [
    "### Video\n",
    "<iframe width=\"560\" height=\"315\" src=\"https://www.youtube.com/embed/hEWY6kkBdpo\" frameborder=\"0\" allow=\"accelerometer; autoplay; clipboard-write; encrypted-media; gyroscope; picture-in-picture\" allowfullscreen></iframe>\n"
   ]
  },
  {
   "cell_type": "markdown",
   "id": "f4f8674d",
   "metadata": {},
   "source": [
    "### Preguntas Finales"
   ]
  },
  {
   "cell_type": "code",
   "execution_count": null,
   "id": "863f1738",
   "metadata": {},
   "outputs": [],
   "source": [
    "# Describe las diferencias clave entre gráficos de barras, gráficos circulares y histogramas.\n"
   ]
  },
  {
   "cell_type": "code",
   "execution_count": null,
   "id": "204678fb",
   "metadata": {},
   "outputs": [],
   "source": [
    "# ¿Por qué es importante elegir el tipo correcto de gráfico para tus datos?\n"
   ]
  },
  {
   "cell_type": "code",
   "execution_count": null,
   "id": "1e3f5e69",
   "metadata": {},
   "outputs": [],
   "source": [
    "# ¿Cuáles son algunos errores a evitar al crear gráficos para representar datos?\n"
   ]
  },
  {
   "cell_type": "markdown",
   "id": "db060f0f",
   "metadata": {},
   "source": [
    "## Visualización de Datos Parte 2 (Gráficos, Valores Atípicos y Justin Timberlake)"
   ]
  },
  {
   "cell_type": "markdown",
   "id": "3742aeea",
   "metadata": {},
   "source": [
    "### Preguntas Iniciales"
   ]
  },
  {
   "cell_type": "code",
   "execution_count": null,
   "id": "e895f7e2",
   "metadata": {},
   "outputs": [],
   "source": [
    "# ¿A qué crees que se refiere un 'valor atípico' en un conjunto de datos?\n"
   ]
  },
  {
   "cell_type": "code",
   "execution_count": null,
   "id": "349f36da",
   "metadata": {},
   "outputs": [],
   "source": [
    "# ¿Cómo podrían los valores atípicos afectar el análisis general de los datos?\n"
   ]
  },
  {
   "cell_type": "code",
   "execution_count": null,
   "id": "786f9cd9",
   "metadata": {},
   "outputs": [],
   "source": [
    "# ¿Cuáles son algunas formas de visualizar datos cuando hay posibles valores atípicos?\n"
   ]
  },
  {
   "cell_type": "markdown",
   "id": "71f41905",
   "metadata": {},
   "source": [
    "### Video\n",
    "<iframe width=\"560\" height=\"315\" src=\"https://www.youtube.com/embed/HMkllhBI91Y\" frameborder=\"0\" allow=\"accelerometer; autoplay; clipboard-write; encrypted-media; gyroscope; picture-in-picture\" allowfullscreen></iframe>\n"
   ]
  },
  {
   "cell_type": "markdown",
   "id": "71f2e060",
   "metadata": {},
   "source": [
    "### Preguntas Finales"
   ]
  },
  {
   "cell_type": "code",
   "execution_count": null,
   "id": "43cf2434",
   "metadata": {},
   "outputs": [],
   "source": [
    "# Explica cómo se pueden identificar los valores atípicos usando visualizaciones como gráficos de caja (box plots).\n"
   ]
  },
  {
   "cell_type": "code",
   "execution_count": null,
   "id": "317be617",
   "metadata": {},
   "outputs": [],
   "source": [
    "# ¿Cómo deberías tratar los valores atípicos en tu análisis de datos?\n"
   ]
  },
  {
   "cell_type": "code",
   "execution_count": null,
   "id": "7cc30ef0",
   "metadata": {},
   "outputs": [],
   "source": [
    "# ¿Qué papel juegan los gráficos de dispersión (scatter plots) en la identificación de relaciones entre variables?\n"
   ]
  },
  {
   "cell_type": "markdown",
   "id": "38abed74",
   "metadata": {},
   "source": [
    "## Distribuciones (La Forma de los Datos)"
   ]
  },
  {
   "cell_type": "markdown",
   "id": "ffc3f8dc",
   "metadata": {},
   "source": [
    "### Preguntas Iniciales"
   ]
  },
  {
   "cell_type": "code",
   "execution_count": null,
   "id": "c7628c22",
   "metadata": {},
   "outputs": [],
   "source": [
    "# ¿Qué te viene a la mente cuando escuchas el término 'distribución' en el contexto de datos?\n"
   ]
  },
  {
   "cell_type": "code",
   "execution_count": null,
   "id": "1eb3fc1c",
   "metadata": {},
   "outputs": [],
   "source": [
    "# ¿Cómo crees que la forma de una distribución de datos podría afectar el análisis de los datos?\n"
   ]
  },
  {
   "cell_type": "code",
   "execution_count": null,
   "id": "a401fdaa",
   "metadata": {},
   "outputs": [],
   "source": [
    "# ¿Puedes nombrar diferentes tipos de distribuciones de datos?\n"
   ]
  },
  {
   "cell_type": "markdown",
   "id": "7049735b",
   "metadata": {},
   "source": [
    "### Video\n",
    "<iframe width=\"560\" height=\"315\" src=\"https://www.youtube.com/embed/bPFNxD3Yg6U\" frameborder=\"0\" allow=\"accelerometer; autoplay; clipboard-write; encrypted-media; gyroscope; picture-in-picture\" allowfullscreen></iframe>\n"
   ]
  },
  {
   "cell_type": "markdown",
   "id": "d44c9b82",
   "metadata": {},
   "source": [
    "### Preguntas Finales"
   ]
  },
  {
   "cell_type": "code",
   "execution_count": null,
   "id": "0e9b7c70",
   "metadata": {},
   "outputs": [],
   "source": [
    "# Describe las características clave de una distribución normal. ¿Por qué es importante?\n"
   ]
  },
  {
   "cell_type": "code",
   "execution_count": null,
   "id": "4849410f",
   "metadata": {},
   "outputs": [],
   "source": [
    "# ¿Qué es una distribución asimétrica y cómo se diferencia de una distribución normal?\n"
   ]
  },
  {
   "cell_type": "code",
   "execution_count": null,
   "id": "781eb557",
   "metadata": {},
   "outputs": [],
   "source": [
    "# ¿Cómo puede ayudar el entender la distribución de datos en hacer predicciones o decisiones?\n"
   ]
  }
 ],
 "metadata": {
  "language_info": {
   "name": "python"
  }
 },
 "nbformat": 4,
 "nbformat_minor": 5
}
