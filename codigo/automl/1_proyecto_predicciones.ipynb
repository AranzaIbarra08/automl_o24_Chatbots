{
 "cells": [
  {
   "cell_type": "markdown",
   "metadata": {},
   "source": [
    "# Predicciones"
   ]
  },
  {
   "cell_type": "markdown",
   "metadata": {},
   "source": [
    "Este notebook es el que sera entregado a la persona tecnica del banco que se encaragara de revisarlo de manera minuciosa y a nivel muy tecnico. A continuacion se presenta un bosquejo de las secciones que debe contener.  \n",
    "Puedes agregar tantas celdas como requieras, pero manten la estructura general del proyecto."
   ]
  },
  {
   "cell_type": "markdown",
   "metadata": {},
   "source": [
    "Deberas utilizar `autogluon` para realizar el proyecto, sin embargo debes de ser mas cuidadosx en la seleccion de variables que lo que fuimos en el automl, puedes usar las variables que utilizamos en las predicciones de `sklearn`."
   ]
  },
  {
   "cell_type": "markdown",
   "metadata": {},
   "source": [
    "Pon especial atencion en tus sets, recuerda que debes entrenar el modelo, ver la calibracion, sugerir tasas de interes y simular como se va a comportar en la realidad. Por ende, debes de ser extremadamente cuidadosx en como los separas. Una mala separacion de estos sets arruinaria todo el proyecto, pues seria inutil."
   ]
  },
  {
   "cell_type": "markdown",
   "metadata": {},
   "source": [
    "## ETL"
   ]
  },
  {
   "cell_type": "markdown",
   "metadata": {},
   "source": [
    "En esta seccion deberas cargas los datos desde el github de Lending Club"
   ]
  },
  {
   "cell_type": "code",
   "execution_count": null,
   "metadata": {},
   "outputs": [],
   "source": []
  },
  {
   "cell_type": "markdown",
   "metadata": {},
   "source": [
    "## Seleccion de variables"
   ]
  },
  {
   "cell_type": "markdown",
   "metadata": {},
   "source": [
    "La seleccion de variables debe ser minuciosa, tomando en cuenta el `leakage` y los problemas de causalidad que apareceran mas adelante. A continuacion te dejo las variables elegidas a mano, sin embargo puede que necesites quitar alguna que otra variable."
   ]
  },
  {
   "cell_type": "code",
   "execution_count": null,
   "metadata": {},
   "outputs": [],
   "source": [
    "elegidas = ['charged_off','funded_amnt','addr_state', 'annual_inc',\n",
    "            'application_type', 'dti', 'earliest_cr_line', 'emp_length', \n",
    "            'emp_title', 'fico_range_high', 'fico_range_low', 'grade',\n",
    "            'home_ownership', 'initial_list_status', 'installment', \n",
    "            'int_rate', 'loan_amnt', 'loan_status', 'mort_acc', \n",
    "            'open_acc', 'pub_rec', 'pub_rec_bankruptcies', 'purpose', \n",
    "            'revol_bal', 'revol_util', 'sub_grade', 'term', 'title', \n",
    "            'total_acc', 'verification_status', 'zip_code',\n",
    "            'last_pymnt_amnt','num_actv_rev_tl', 'mo_sin_rcnt_rev_tl_op',\n",
    "            'mo_sin_old_rev_tl_op',\"bc_util\",\"bc_open_to_buy\",\"avg_cur_bal\",\n",
    "            \"acc_open_past_24mths\" ]\n",
    "len(elegidas)"
   ]
  },
  {
   "cell_type": "code",
   "execution_count": null,
   "metadata": {},
   "outputs": [],
   "source": []
  },
  {
   "cell_type": "markdown",
   "metadata": {},
   "source": [
    "## Ingenieria & seleccion de variables"
   ]
  },
  {
   "cell_type": "markdown",
   "metadata": {},
   "source": [
    "Toma en cuenta que el banco desea que sugieras una tasa de interes, por lo que tienes que quitar cualquier varaible relacioanda con esta"
   ]
  },
  {
   "cell_type": "code",
   "execution_count": null,
   "metadata": {},
   "outputs": [],
   "source": []
  },
  {
   "cell_type": "markdown",
   "metadata": {},
   "source": [
    "## Entrenamiento"
   ]
  },
  {
   "cell_type": "markdown",
   "metadata": {},
   "source": [
    "Codigo de entrenamiento de modelos con `autogluon`. Toma en cuenta el imbalance de clases y las peticiones que tiene el banco."
   ]
  },
  {
   "cell_type": "code",
   "execution_count": null,
   "metadata": {},
   "outputs": [],
   "source": []
  },
  {
   "cell_type": "markdown",
   "metadata": {},
   "source": [
    "## Seleccion de Modelos"
   ]
  },
  {
   "cell_type": "markdown",
   "metadata": {},
   "source": [
    "En esta seccion debes elegir un modelo apra cada caso, y explicar cuidadosamente por que elegiste cada modelo, ademas de indicar que metricas utilizaste para elegir."
   ]
  },
  {
   "cell_type": "markdown",
   "metadata": {},
   "source": [
    "Pon especial atencio a las metricas que elegiste, y justifica por que estas metricas son importantes/buenas para el problema. Recuerda que este notebook sera revisado por una persona tecnica."
   ]
  },
  {
   "cell_type": "markdown",
   "metadata": {},
   "source": [
    "Incluye graficas, tablas o representacions visuales para explicar por que elgiste cada modelo y las metricas que utilizaste para elegir el modelo."
   ]
  },
  {
   "cell_type": "markdown",
   "metadata": {},
   "source": [
    "Salva tus modelos, pues los utilizaras en el siguiente notebook. Para salvar el modelo utiliza la funcion https://auto.gluon.ai/stable/api/autogluon.tabular.TabularPredictor.clone_for_deployment.html "
   ]
  },
  {
   "cell_type": "markdown",
   "metadata": {},
   "source": [
    "### Modelo Interpretable"
   ]
  },
  {
   "cell_type": "code",
   "execution_count": null,
   "metadata": {},
   "outputs": [],
   "source": []
  },
  {
   "cell_type": "markdown",
   "metadata": {},
   "source": [
    "#### Calibracion del modelo"
   ]
  },
  {
   "cell_type": "markdown",
   "metadata": {},
   "source": [
    "En esta seccion revisa la calibracion de tu modelo, recuerda que deberas elegir una tasa de interes, por lo que es importante que tu modelo este calibrado, de no estarlo busca como podrias calibrarlo, o justifica por que no lo calibras y como afectaria los resultados"
   ]
  },
  {
   "cell_type": "code",
   "execution_count": null,
   "metadata": {},
   "outputs": [],
   "source": []
  },
  {
   "cell_type": "markdown",
   "metadata": {},
   "source": [
    "### Modelo no Interpretable"
   ]
  },
  {
   "cell_type": "code",
   "execution_count": null,
   "metadata": {},
   "outputs": [],
   "source": []
  },
  {
   "cell_type": "markdown",
   "metadata": {},
   "source": [
    "#### Calibracion del modelo"
   ]
  },
  {
   "cell_type": "markdown",
   "metadata": {},
   "source": [
    "En esta seccion revisa la calibracion de tu modelo, recuerda que deberas elegir una tasa de interes, por lo que es importante que tu modelo este calibrado, de no estarlo busca como podrias calibrarlo, o justifica por que no lo calibras y como afectaria los resultados"
   ]
  },
  {
   "cell_type": "code",
   "execution_count": null,
   "metadata": {},
   "outputs": [],
   "source": []
  },
  {
   "cell_type": "markdown",
   "metadata": {},
   "source": [
    "## Explicacion de Variables"
   ]
  },
  {
   "cell_type": "markdown",
   "metadata": {},
   "source": [
    "Realiza una explicacion de que variables son importantes, y como podria utilizarlas el banca para explicar a la comision bancaria y regulatoria por que se otorgo o no el prestamo. Pon atencion a que set usaras para esta parte (train, val, test, calibracion, otro?)"
   ]
  },
  {
   "cell_type": "code",
   "execution_count": null,
   "metadata": {},
   "outputs": [],
   "source": []
  },
  {
   "cell_type": "code",
   "execution_count": null,
   "metadata": {},
   "outputs": [],
   "source": []
  }
 ],
 "metadata": {
  "kernelspec": {
   "display_name": ".venv",
   "language": "python",
   "name": "python3"
  },
  "language_info": {
   "name": "python",
   "version": "3.11.6"
  }
 },
 "nbformat": 4,
 "nbformat_minor": 2
}
